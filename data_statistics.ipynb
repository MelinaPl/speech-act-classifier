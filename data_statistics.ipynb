{
 "cells": [
  {
   "cell_type": "code",
   "execution_count": 1,
   "metadata": {},
   "outputs": [],
   "source": [
    "# Install packages\n",
    "import pandas as pd\n",
    "import os"
   ]
  },
  {
   "cell_type": "code",
   "execution_count": 2,
   "metadata": {},
   "outputs": [
    {
     "name": "stdout",
     "output_type": "stream",
     "text": [
      "/Users/melinaplakidis/Documents/DFKI/speech-act-classifier_LREC_COLING/data\n"
     ]
    }
   ],
   "source": [
    "# Set paths\n",
    "WORKING_DIR = os.getcwd()\n",
    "DATA_DIR = \"data\"\n",
    "full_path = os.path.join(WORKING_DIR, DATA_DIR)\n",
    "print(full_path)"
   ]
  },
  {
   "cell_type": "code",
   "execution_count": 3,
   "metadata": {},
   "outputs": [],
   "source": [
    "# Read in train and test set files (comment out the ones that are not needed)\n",
    "fine_train = pd.read_csv(os.path.join(full_path,\"train_fine.csv\"), delimiter=\"\\t\")\n",
    "fine_test = pd.read_csv(os.path.join(full_path,\"test_fine.csv\"), delimiter=\"\\t\")\n",
    "# coarse_train = pd.read_csv(os.path.join(full_path,\"train_coarse.csv\"), delimiter=\"\\t\")\n",
    "# coarse_test = pd.read_csv(os.path.join(full_path,\"test_coarse.csv\"), delimiter=\"\\t\")\n",
    "# merged_train = pd.read_csv(os.path.join(full_path, \"train_coarse_merged.csv\"), delimiter=\"\\t\")\n",
    "# merged_test = pd.read_csv(os.path.join(full_path,\"test_coarse_merged.csv\"), delimiter=\"\\t\")"
   ]
  },
  {
   "cell_type": "code",
   "execution_count": 4,
   "metadata": {},
   "outputs": [],
   "source": [
    "# Get frequencies\n",
    "\n",
    "def count_sa_labels(df_train, df_test): \n",
    "    train_labels = df_train[\"labels\"].tolist()\n",
    "    test_labels = df_test[\"labels\"].tolist()\n",
    "    label_names = sorted(set(train_labels))\n",
    "    result_dict = {}\n",
    "    train, test = [], []\n",
    "    for speech_act in label_names:\n",
    "        train.append(train_labels.count(speech_act))\n",
    "        test.append(test_labels.count(speech_act))\n",
    "    result_dict[\"train\"] = train\n",
    "    result_dict[\"test\"] = test\n",
    "    return result_dict, label_names\n",
    "\n",
    "#results, left_column = count_sa_labels(coarse_train, coarse_test)\n",
    "results, left_column = count_sa_labels(fine_train, fine_test)\n"
   ]
  },
  {
   "cell_type": "code",
   "execution_count": 5,
   "metadata": {},
   "outputs": [
    {
     "name": "stdout",
     "output_type": "stream",
     "text": [
      "\\begin{tabular}{lrr}\n",
      "\\toprule\n",
      "{} &  train &  test \\\\\n",
      "\\midrule\n",
      "ADDRESS      &    297 &    78 \\\\\n",
      "AGREE        &     11 &     2 \\\\\n",
      "ASSERT       &    472 &   118 \\\\\n",
      "COMMISSIVE   &     18 &     2 \\\\\n",
      "COMPLAIN     &    193 &    64 \\\\\n",
      "EXCLUDED     &     11 &     5 \\\\\n",
      "GUESS        &     21 &     6 \\\\\n",
      "OTHER        &     56 &    17 \\\\\n",
      "PREDICT      &     27 &     7 \\\\\n",
      "REJOICE      &     13 &     4 \\\\\n",
      "REQUEST      &    131 &    32 \\\\\n",
      "REQUIRE      &     65 &    13 \\\\\n",
      "SUGGEST      &     13 &     3 \\\\\n",
      "SUSTAIN      &     12 &     1 \\\\\n",
      "UNSURE       &    126 &    24 \\\\\n",
      "WISH         &      8 &     3 \\\\\n",
      "expressEMOJI &     93 &    13 \\\\\n",
      "\\bottomrule\n",
      "\\end{tabular}\n",
      "\n"
     ]
    },
    {
     "name": "stderr",
     "output_type": "stream",
     "text": [
      "/var/folders/7k/4yx64stx14x98pvlwz2br_nr0000gn/T/ipykernel_88614/2671874310.py:2: FutureWarning: In future versions `DataFrame.to_latex` is expected to utilise the base implementation of `Styler.to_latex` for formatting and rendering. The arguments signature may therefore change. It is recommended instead to use `DataFrame.style.to_latex` which also contains additional functionality.\n",
      "  print(df.to_latex())\n"
     ]
    }
   ],
   "source": [
    "df = pd.DataFrame(results, index=left_column)\n",
    "print(df.to_latex())"
   ]
  }
 ],
 "metadata": {
  "kernelspec": {
   "display_name": "torch-nightly",
   "language": "python",
   "name": "python3"
  },
  "language_info": {
   "codemirror_mode": {
    "name": "ipython",
    "version": 3
   },
   "file_extension": ".py",
   "mimetype": "text/x-python",
   "name": "python",
   "nbconvert_exporter": "python",
   "pygments_lexer": "ipython3",
   "version": "3.8.16"
  },
  "orig_nbformat": 4
 },
 "nbformat": 4,
 "nbformat_minor": 2
}
