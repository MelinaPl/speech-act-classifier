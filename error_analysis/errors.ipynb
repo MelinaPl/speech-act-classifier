{
 "cells": [
  {
   "cell_type": "code",
   "execution_count": 2,
   "metadata": {},
   "outputs": [
    {
     "name": "stderr",
     "output_type": "stream",
     "text": [
      "/Users/melinaplakidis/Documents/Sprachtechnologie_HA/env/lib/python3.8/site-packages/tqdm/auto.py:21: TqdmWarning: IProgress not found. Please update jupyter and ipywidgets. See https://ipywidgets.readthedocs.io/en/stable/user_install.html\n",
      "  from .autonotebook import tqdm as notebook_tqdm\n"
     ]
    },
    {
     "name": "stdout",
     "output_type": "stream",
     "text": [
      "True\n"
     ]
    }
   ],
   "source": [
    "import pandas as pd\n",
    "import json\n",
    "from transformers import AutoModelForSequenceClassification, TrainingArguments, Trainer\n",
    "from transformers import AutoTokenizer, DataCollatorWithPadding\n",
    "import numpy as np\n",
    "import evaluate\n",
    "from datasets import Dataset\n",
    "from sklearn.model_selection import train_test_split\n",
    "from sklearn.metrics import classification_report, precision_recall_fscore_support, f1_score\n",
    "from sklearn.metrics import confusion_matrix, ConfusionMatrixDisplay\n",
    "import torch\n",
    "from tqdm import tqdm\n",
    "import matplotlib.pyplot as plt\n",
    "import os\n",
    "\n",
    "print(torch.has_mps)\n",
    "device = torch.device('mps')"
   ]
  },
  {
   "cell_type": "code",
   "execution_count": 4,
   "metadata": {},
   "outputs": [],
   "source": [
    "### LOAD DATA \n",
    "\n",
    "with open(\"/Users/melinaplakidis/Documents/Sprachtechnologie_HA/data/annotations_with_text.json\", \"r\", encoding=\"utf8\") as f:\n",
    "    data = json.load(f)\n",
    "\n",
    "def sentence_iterator(data):\n",
    "    for ele in data:\n",
    "        name = ele\n",
    "        tweet = data[ele]\n",
    "        for value in tweet.values():\n",
    "            sentences = value['sentences']\n",
    "            for sentence in sentences:\n",
    "                text = sentences[sentence]['text']\n",
    "                stype = sentences[sentence]['stype']\n",
    "                if sentences[sentence]['coarse'] == \"COMMISSIVE\" or sentences[sentence]['coarse'] == \"OTHER\":\n",
    "                    coarse = \"COMOTH\"\n",
    "                else:\n",
    "                    coarse = sentences[sentence]['coarse']\n",
    "                fine = sentences[sentence]['fine']\n",
    "                yield text, coarse, fine\n",
    "\n",
    "texts, coarses, fines = [], [], []\n",
    "for text, coarse, fine in sentence_iterator(data):\n",
    "    texts.append(text)\n",
    "    coarses.append(coarse)\n",
    "    fines.append(fine)\n",
    "  \n",
    "df = pd.DataFrame({\"text\": texts, \"coarses\": coarses})"
   ]
  },
  {
   "cell_type": "code",
   "execution_count": 5,
   "metadata": {},
   "outputs": [
    {
     "name": "stdout",
     "output_type": "stream",
     "text": [
      "Dataset({\n",
      "    features: ['text', 'coarses', '__index_level_0__'],\n",
      "    num_rows: 385\n",
      "})\n"
     ]
    }
   ],
   "source": [
    "#### CONVERT TO HF DATASET\n",
    "\n",
    "train_df, test_df = train_test_split(df, test_size=0.2, random_state=200)\n",
    "\n",
    "train_dataset = Dataset.from_pandas(train_df)\n",
    "test_dataset = Dataset.from_pandas(test_df)\n",
    "print(test_dataset)"
   ]
  },
  {
   "cell_type": "code",
   "execution_count": 6,
   "metadata": {},
   "outputs": [],
   "source": [
    "### START PREPROCESSING \n",
    "\n",
    "labels = [i for i in df['coarses'].values.tolist()]\n",
    "unique_labels = set()\n",
    "\n",
    "for lb in labels:\n",
    "    if lb not in unique_labels:\n",
    "        unique_labels.add(lb)\n",
    "labels_to_ids = {k: v for v, k in enumerate(sorted(unique_labels))}\n",
    "ids_to_labels = {v: k for v, k in enumerate(sorted(unique_labels))}\n"
   ]
  },
  {
   "cell_type": "code",
   "execution_count": 8,
   "metadata": {},
   "outputs": [
    {
     "name": "stderr",
     "output_type": "stream",
     "text": [
      "100%|██████████| 385/385 [04:49<00:00,  1.33it/s]"
     ]
    },
    {
     "name": "stdout",
     "output_type": "stream",
     "text": [
      "                                                 Text  True Label  Prediction\n",
      "0   Ich hätte auch gerne ne SUpiDupi Friedliche Welt.  EXPRESSIVE   ASSERTIVE\n",
      "1   #Tagesschau bejubelt #Katar &amp; sein #Islami...   ASSERTIVE  EXPRESSIVE\n",
      "2             Das ist das Geschenk von Merkel und Co.  EXPRESSIVE   ASSERTIVE\n",
      "3   Ich will dieses Arschloch nicht auf freiem Fuß...  EXPRESSIVE   ASSERTIVE\n",
      "4   Hat uns alles IM Erika mitsamt der abgefuckten...      UNSURE   ASSERTIVE\n",
      "..                                                ...         ...         ...\n",
      "83  Ich würde ihnen gern eine arte Doku zum Thema ...   ASSERTIVE   DIRECTIVE\n",
      "84       Dass man ihn noch ins Spital bringt hat was.      UNSURE   ASSERTIVE\n",
      "85                 Sie wollen besser behandelt werden   ASSERTIVE   DIRECTIVE\n",
      "86                              Nette Zusammenfassung      UNSURE  EXPRESSIVE\n",
      "87                                           Beifall.  EXPRESSIVE   ASSERTIVE\n",
      "\n",
      "[88 rows x 3 columns]\n"
     ]
    },
    {
     "name": "stderr",
     "output_type": "stream",
     "text": [
      "\n"
     ]
    }
   ],
   "source": [
    "### Coarse (5) uncased is the best performing model\n",
    "\n",
    "def get_predictions(model_path):\n",
    "    tokenizer = AutoTokenizer.from_pretrained(model_path)\n",
    "    predictions = []\n",
    "    for text in tqdm(test_df[\"text\"]):\n",
    "        inputs = tokenizer(text, return_tensors=\"pt\").to(device)\n",
    "        model = AutoModelForSequenceClassification.from_pretrained(model_path, local_files_only=True).to(device)\n",
    "        with torch.no_grad():\n",
    "            logits = model(**inputs).logits\n",
    "        predicted_class_id = logits.argmax().item()\n",
    "        predicted_label = model.config.id2label[predicted_class_id]\n",
    "        predictions.append(predicted_label)\n",
    "    df_results = pd.DataFrame({\"Text\": test_df[\"text\"], \"True Label\": test_df[\"coarses\"], \"Prediction\": predictions})\n",
    "    texts, labels, predictions = [], [], []\n",
    "    for text, label, prediction in zip(df_results[\"Text\"], df_results[\"True Label\"], df_results[\"Prediction\"]):\n",
    "        if label == prediction:\n",
    "            continue\n",
    "        else:\n",
    "            texts.append(text)\n",
    "            labels.append(label)\n",
    "            predictions.append(prediction)\n",
    "    errors = pd.DataFrame({\"Text\": texts, \"True Label\": labels, \"Prediction\": predictions})    \n",
    "    print(errors)\n",
    "    return errors\n",
    "\n",
    "df_results = get_predictions(\"/Users/melinaplakidis/Documents/Sprachtechnologie_HA/models/coarse_cased_5classes/BESTcheckpoint-485\")"
   ]
  },
  {
   "cell_type": "code",
   "execution_count": 9,
   "metadata": {},
   "outputs": [],
   "source": [
    "df_results.to_csv(\"error_analysis.csv\")\n",
    "cm = confusion_matrix(df_results[\"True Label\"], df_results[\"Prediction\"])"
   ]
  },
  {
   "cell_type": "code",
   "execution_count": 11,
   "metadata": {},
   "outputs": [],
   "source": [
    "disp = ConfusionMatrixDisplay(confusion_matrix=cm, display_labels=list(sorted(unique_labels)))"
   ]
  },
  {
   "cell_type": "code",
   "execution_count": 15,
   "metadata": {},
   "outputs": [
    {
     "data": {
      "image/png": "[encoded data removed]",
      "text/plain": [
       "<Figure size 640x480 with 2 Axes>"
      ]
     },
     "metadata": {},
     "output_type": "display_data"
    }
   ],
   "source": [
    "disp.plot(cmap = \"OrRd\", xticks_rotation=45)\n",
    "plt.show()"
   ]
  }
 ],
 "metadata": {
  "kernelspec": {
   "display_name": "Python 3",
   "language": "python",
   "name": "python3"
  },
  "language_info": {
   "codemirror_mode": {
    "name": "ipython",
    "version": 3
   },
   "file_extension": ".py",
   "mimetype": "text/x-python",
   "name": "python",
   "nbconvert_exporter": "python",
   "pygments_lexer": "ipython3",
   "version": "3.8.16"
  },
  "orig_nbformat": 4
 },
 "nbformat": 4,
 "nbformat_minor": 2
}
